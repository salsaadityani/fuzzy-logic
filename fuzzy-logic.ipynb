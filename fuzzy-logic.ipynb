{
  "nbformat": 4,
  "nbformat_minor": 0,
  "metadata": {
    "colab": {
      "provenance": [],
      "include_colab_link": true
    },
    "kernelspec": {
      "name": "python3",
      "display_name": "Python 3"
    }
  },
  "cells": [
    {
      "cell_type": "markdown",
      "metadata": {
        "id": "view-in-github",
        "colab_type": "text"
      },
      "source": [
        "<a href=\"https://colab.research.google.com/github/salsaadityani/fuzzy-logic/blob/main/fuzzy-logic.ipynb\" target=\"_parent\"><img src=\"https://colab.research.google.com/assets/colab-badge.svg\" alt=\"Open In Colab\"/></a>"
      ]
    },
    {
      "cell_type": "code",
      "metadata": {
        "id": "62Jf3-26symP"
      },
      "source": [
        "import pandas as pd\n",
        "\n",
        "datamhs = []\n",
        "hasil, luar, infer, defuz, index = [], [], [], [], []"
      ],
      "execution_count": null,
      "outputs": []
    },
    {
      "cell_type": "code",
      "metadata": {
        "id": "N4HbZ2uhUrjs"
      },
      "source": [
        "def loaddata():\n",
        "  dataa = pd.read_excel('Mahasiswa.xls', sheet_name='Mahasiswa')\n",
        "\n",
        "  for i in dataa.index:\n",
        "    data = {}\n",
        "    data['id'] = dataa['Id'][i]\n",
        "    data['penghasilan'] = dataa['Penghasilan'][i]\n",
        "    data['pengeluaran'] = dataa['Pengeluaran'][i]\n",
        "    datamhs.append(data)"
      ],
      "execution_count": null,
      "outputs": []
    },
    {
      "cell_type": "code",
      "metadata": {
        "id": "ezvWev9RZdJX"
      },
      "source": [
        "def penghasilan(nilai):\n",
        "  bawah, tengah, atas = 0, 0, 0\n",
        "\n",
        "  if (nilai <= 5.8) :\n",
        "    bawah = 1\n",
        "  elif (nilai > 8.5) :\n",
        "    bawah = 0\n",
        "  elif (nilai > 5.8 and nilai <= 8.5) :\n",
        "    bawah = (8.5-nilai)/(8.5-5.8)\n",
        "\n",
        "  if (nilai <= 5.8 and nilai > 11.5) :\n",
        "    tengah = 0\n",
        "  elif (nilai > 5.8 and nilai <= 8.5) :\n",
        "    tengah = (nilai-5.8)/(8.5-5.8)\n",
        "  elif (nilai > 8.5 and nilai <= 10.5) :\n",
        "    tengah = 1\n",
        "  elif (nilai > 10.5 and nilai <= 11.5) :\n",
        "    tengah = (11.5-nilai)/(11.5-10.5)\n",
        "\n",
        "  if (nilai <= 10.5) :\n",
        "    atas = 0\n",
        "  elif (nilai > 19.6) :\n",
        "    atas = 1\n",
        "  elif (nilai > 10.5 and nilai <= 19.6) :\n",
        "    atas = (nilai-10.5)/(19.6-10.5)\n",
        "\n",
        "  return [bawah, tengah, atas]"
      ],
      "execution_count": null,
      "outputs": []
    },
    {
      "cell_type": "code",
      "metadata": {
        "id": "jHHD7XX6a-bm"
      },
      "source": [
        "def pengeluaran(nilai) :\n",
        "    dikit, tengah, banyak = 0, 0, 0\n",
        "\n",
        "    if (nilai <= 4.0) :\n",
        "      dikit = 1\n",
        "    elif (nilai > 6.9) :\n",
        "      dikit = 0\n",
        "    elif (nilai > 4.0 and nilai <= 6.9) :\n",
        "      dikit = (6.9-nilai)/(6.9-4.0)\n",
        "\n",
        "    if (nilai <= 4.0 and nilai > 10.5) :\n",
        "      tengah = 0\n",
        "    elif (nilai > 4.0 and nilai <= 6.9) :\n",
        "      tengah = (nilai-4.0)/(6.9-4.0)\n",
        "    elif (nilai > 6.9 and nilai <= 9) :\n",
        "      tengah = 1\n",
        "    elif (nilai > 9 and nilai <= 10.5) :\n",
        "      tengah = (10.5-nilai)/(10.5-9)\n",
        "\n",
        "    if (nilai <= 9) :\n",
        "      tengah = 0\n",
        "    elif (nilai > 11.3) :\n",
        "      tengah = 1\n",
        "    elif (nilai > 9 and nilai <= 11.3) :\n",
        "      tengah = (nilai-9)/(11.3-9)\n",
        "\n",
        "    return [dikit, tengah, banyak]"
      ],
      "execution_count": null,
      "outputs": []
    },
    {
      "cell_type": "code",
      "metadata": {
        "id": "VOIAuOPUb_hV"
      },
      "source": [
        "def inferensi(hasil, luar):\n",
        "  no, maybe, yes = [], [], []\n",
        "\n",
        "  no.append(max(hasil[1], luar[0]))\n",
        "  no.append(max(hasil[2], luar[0]))\n",
        "  no.append(max(hasil[2], luar[1]))\n",
        "\n",
        "  maybe.append(max(hasil[0], luar[0]))\n",
        "  maybe.append(max(hasil[1], luar[1]))\n",
        "  maybe.append(max(hasil[2], luar[2]))\n",
        "\n",
        "  yes.append(max(hasil[0], luar[1]))\n",
        "  yes.append(max(hasil[0], luar[2]))\n",
        "  yes.append(max(hasil[1], luar[2]))\n",
        "\n",
        "  n = max(no[0], no[1], no[2])\n",
        "  m = max(maybe[0], maybe[1], maybe[2])\n",
        "  y = max(yes[0], yes[1], yes[2])\n",
        "\n",
        "  return [n, m, y]"
      ],
      "execution_count": null,
      "outputs": []
    },
    {
      "cell_type": "code",
      "metadata": {
        "id": "4G-V3fmVdG3G"
      },
      "source": [
        "def defuzzifikasi(inf):\n",
        "  defuz = ((60*inf[0])+(80*inf[1])+(90*inf[2]))/(inf[0]+inf[1]+inf[2])\n",
        "\n",
        "  return defuz"
      ],
      "execution_count": null,
      "outputs": []
    },
    {
      "cell_type": "code",
      "metadata": {
        "id": "vr71d9WmdotH"
      },
      "source": [
        "def sorting(defuz,index):\n",
        "\tsort = [i for _, i in sorted(zip(defuz,index), reverse=True)]\n",
        "\n",
        "\treturn sort"
      ],
      "execution_count": null,
      "outputs": []
    },
    {
      "cell_type": "code",
      "metadata": {
        "id": "Wq0S7wTpfHtW",
        "outputId": "6a8d7b97-3e35-4f6b-c387-c1127c265b2e",
        "colab": {
          "base_uri": "https://localhost:8080/"
        }
      },
      "source": [
        "loaddata()\n",
        "\n",
        "for row in datamhs:\n",
        "  hasil = penghasilan(row['penghasilan'])\n",
        "  luar = pengeluaran(row['pengeluaran'])\n",
        "  infer = inferensi(hasil, luar)\n",
        "  defuz.append(defuzzifikasi(infer))\n",
        "  index.append(row['id'])\n",
        "\n",
        "bantuan = sorting(defuz, index)\n",
        "bantu = bantuan[:20]\n",
        "print(bantu)\n",
        "print('Layak Bantuan')\n",
        "for ban in bantu:\n",
        "\tprint(ban)"
      ],
      "execution_count": null,
      "outputs": [
        {
          "output_type": "stream",
          "text": [
            "[75, 41, 11, 13, 25, 33, 4, 99, 94, 93, 81, 79, 74, 72, 69, 66, 63, 61, 60, 52]\n",
            "Layak Bantuan\n",
            "75\n",
            "41\n",
            "11\n",
            "13\n",
            "25\n",
            "33\n",
            "4\n",
            "99\n",
            "94\n",
            "93\n",
            "81\n",
            "79\n",
            "74\n",
            "72\n",
            "69\n",
            "66\n",
            "63\n",
            "61\n",
            "60\n",
            "52\n"
          ],
          "name": "stdout"
        }
      ]
    }
  ]
}